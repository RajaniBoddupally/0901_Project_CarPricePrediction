{
  "nbformat": 4,
  "nbformat_minor": 0,
  "metadata": {
    "colab": {
      "provenance": [],
      "authorship_tag": "ABX9TyONJhRO2CsnUV4vq9Sdo+gf",
      "include_colab_link": true
    },
    "kernelspec": {
      "name": "python3",
      "display_name": "Python 3"
    },
    "language_info": {
      "name": "python"
    }
  },
  "cells": [
    {
      "cell_type": "markdown",
      "metadata": {
        "id": "view-in-github",
        "colab_type": "text"
      },
      "source": [
        "<a href=\"https://colab.research.google.com/github/RajaniBoddupally/0901_Project_CarPricePrediction/blob/main/0901_Project_Code.ipynb\" target=\"_parent\"><img src=\"https://colab.research.google.com/assets/colab-badge.svg\" alt=\"Open In Colab\"/></a>"
      ]
    },
    {
      "cell_type": "code",
      "execution_count": 1,
      "metadata": {
        "colab": {
          "base_uri": "https://localhost:8080/"
        },
        "id": "OL6CHSkD2cwL",
        "outputId": "da041404-eba6-4538-9ba8-6f5ff81cfa82"
      },
      "outputs": [
        {
          "output_type": "stream",
          "name": "stdout",
          "text": [
            "Mounted at /content/drive\n"
          ]
        }
      ],
      "source": [
        "from google.colab import drive\n",
        "drive.mount('/content/drive')"
      ]
    },
    {
      "cell_type": "code",
      "source": [
        "import pandas as pd\n",
        "Cardetails_File = '/content/drive/My Drive/Car_Details.csv'\n",
        "Car_Details_Data = pd.read_csv(Cardetails_File)\n",
        "print(Car_Details_Data.head())"
      ],
      "metadata": {
        "colab": {
          "base_uri": "https://localhost:8080/"
        },
        "id": "UpT-jNmB8-FS",
        "outputId": "9cdfb7f7-7e23-4419-e931-40bd74a322b6"
      },
      "execution_count": 2,
      "outputs": [
        {
          "output_type": "stream",
          "name": "stdout",
          "text": [
            "                           name  year  selling_price  km_driven    fuel  \\\n",
            "0        Maruti Swift Dzire VDI  2014         450000     145500  Diesel   \n",
            "1  Skoda Rapid 1.5 TDI Ambition  2014         370000     120000  Diesel   \n",
            "2      Honda City 2017-2020 EXi  2006         158000     140000  Petrol   \n",
            "3     Hyundai i20 Sportz Diesel  2010         225000     127000  Diesel   \n",
            "4        Maruti Swift VXI BSIII  2007         130000     120000  Petrol   \n",
            "\n",
            "  seller_type transmission         owner     mileage   engine   max_power  \\\n",
            "0  Individual       Manual   First Owner   23.4 kmpl  1248 CC      74 bhp   \n",
            "1  Individual       Manual  Second Owner  21.14 kmpl  1498 CC  103.52 bhp   \n",
            "2  Individual       Manual   Third Owner   17.7 kmpl  1497 CC      78 bhp   \n",
            "3  Individual       Manual   First Owner   23.0 kmpl  1396 CC      90 bhp   \n",
            "4  Individual       Manual   First Owner   16.1 kmpl  1298 CC    88.2 bhp   \n",
            "\n",
            "                     torque  seats  \n",
            "0            190Nm@ 2000rpm    5.0  \n",
            "1       250Nm@ 1500-2500rpm    5.0  \n",
            "2     12.7@ 2,700(kgm@ rpm)    5.0  \n",
            "3  22.4 kgm at 1750-2750rpm    5.0  \n",
            "4     11.5@ 4,500(kgm@ rpm)    5.0  \n"
          ]
        }
      ]
    },
    {
      "cell_type": "code",
      "source": [
        "print(f'Shape of the Dataset before pre-processing:{Car_Details_Data.shape}')"
      ],
      "metadata": {
        "colab": {
          "base_uri": "https://localhost:8080/"
        },
        "id": "lMhBU3U89eVC",
        "outputId": "6fb35aab-ea16-498a-9514-3ba01ef29e08"
      },
      "execution_count": 7,
      "outputs": [
        {
          "output_type": "stream",
          "name": "stdout",
          "text": [
            "Shape of the Dataset before pre-processing:(8128, 13)\n"
          ]
        }
      ]
    },
    {
      "cell_type": "code",
      "source": [
        "Car_Details_Data.isna().sum()"
      ],
      "metadata": {
        "colab": {
          "base_uri": "https://localhost:8080/",
          "height": 491
        },
        "id": "_S3wCvqM9ThD",
        "outputId": "e59e62c1-4563-4e09-ac1c-e570de28876f"
      },
      "execution_count": 8,
      "outputs": [
        {
          "output_type": "execute_result",
          "data": {
            "text/plain": [
              "name               0\n",
              "year               0\n",
              "selling_price      0\n",
              "km_driven          0\n",
              "fuel               0\n",
              "seller_type        0\n",
              "transmission       0\n",
              "owner              0\n",
              "mileage          221\n",
              "engine           221\n",
              "max_power        215\n",
              "torque           222\n",
              "seats            221\n",
              "dtype: int64"
            ],
            "text/html": [
              "<div>\n",
              "<style scoped>\n",
              "    .dataframe tbody tr th:only-of-type {\n",
              "        vertical-align: middle;\n",
              "    }\n",
              "\n",
              "    .dataframe tbody tr th {\n",
              "        vertical-align: top;\n",
              "    }\n",
              "\n",
              "    .dataframe thead th {\n",
              "        text-align: right;\n",
              "    }\n",
              "</style>\n",
              "<table border=\"1\" class=\"dataframe\">\n",
              "  <thead>\n",
              "    <tr style=\"text-align: right;\">\n",
              "      <th></th>\n",
              "      <th>0</th>\n",
              "    </tr>\n",
              "  </thead>\n",
              "  <tbody>\n",
              "    <tr>\n",
              "      <th>name</th>\n",
              "      <td>0</td>\n",
              "    </tr>\n",
              "    <tr>\n",
              "      <th>year</th>\n",
              "      <td>0</td>\n",
              "    </tr>\n",
              "    <tr>\n",
              "      <th>selling_price</th>\n",
              "      <td>0</td>\n",
              "    </tr>\n",
              "    <tr>\n",
              "      <th>km_driven</th>\n",
              "      <td>0</td>\n",
              "    </tr>\n",
              "    <tr>\n",
              "      <th>fuel</th>\n",
              "      <td>0</td>\n",
              "    </tr>\n",
              "    <tr>\n",
              "      <th>seller_type</th>\n",
              "      <td>0</td>\n",
              "    </tr>\n",
              "    <tr>\n",
              "      <th>transmission</th>\n",
              "      <td>0</td>\n",
              "    </tr>\n",
              "    <tr>\n",
              "      <th>owner</th>\n",
              "      <td>0</td>\n",
              "    </tr>\n",
              "    <tr>\n",
              "      <th>mileage</th>\n",
              "      <td>221</td>\n",
              "    </tr>\n",
              "    <tr>\n",
              "      <th>engine</th>\n",
              "      <td>221</td>\n",
              "    </tr>\n",
              "    <tr>\n",
              "      <th>max_power</th>\n",
              "      <td>215</td>\n",
              "    </tr>\n",
              "    <tr>\n",
              "      <th>torque</th>\n",
              "      <td>222</td>\n",
              "    </tr>\n",
              "    <tr>\n",
              "      <th>seats</th>\n",
              "      <td>221</td>\n",
              "    </tr>\n",
              "  </tbody>\n",
              "</table>\n",
              "</div><br><label><b>dtype:</b> int64</label>"
            ]
          },
          "metadata": {},
          "execution_count": 8
        }
      ]
    },
    {
      "cell_type": "code",
      "source": [
        "Car_Details_Data.info()"
      ],
      "metadata": {
        "colab": {
          "base_uri": "https://localhost:8080/"
        },
        "id": "aPxiwxmD93Ep",
        "outputId": "3dc812bd-278d-44e2-a6ce-166cc54e3866"
      },
      "execution_count": 9,
      "outputs": [
        {
          "output_type": "stream",
          "name": "stdout",
          "text": [
            "<class 'pandas.core.frame.DataFrame'>\n",
            "RangeIndex: 8128 entries, 0 to 8127\n",
            "Data columns (total 13 columns):\n",
            " #   Column         Non-Null Count  Dtype  \n",
            "---  ------         --------------  -----  \n",
            " 0   name           8128 non-null   object \n",
            " 1   year           8128 non-null   int64  \n",
            " 2   selling_price  8128 non-null   int64  \n",
            " 3   km_driven      8128 non-null   int64  \n",
            " 4   fuel           8128 non-null   object \n",
            " 5   seller_type    8128 non-null   object \n",
            " 6   transmission   8128 non-null   object \n",
            " 7   owner          8128 non-null   object \n",
            " 8   mileage        7907 non-null   object \n",
            " 9   engine         7907 non-null   object \n",
            " 10  max_power      7913 non-null   object \n",
            " 11  torque         7906 non-null   object \n",
            " 12  seats          7907 non-null   float64\n",
            "dtypes: float64(1), int64(3), object(9)\n",
            "memory usage: 825.6+ KB\n"
          ]
        }
      ]
    },
    {
      "cell_type": "code",
      "source": [
        "import pandas as pd\n",
        "import re\n",
        "\n",
        "\n",
        "def extract_numeric(value):\n",
        "    if isinstance(value, str):\n",
        "        numeric_value = re.findall(r\"[-+]?\\d*\\.\\d+|\\d+\", value)\n",
        "        return numeric_value[0] if numeric_value else None\n",
        "    return value\n",
        "\n",
        "Car_Details_Data['mileage'] = Car_Details_Data['mileage'].apply(extract_numeric)\n",
        "Car_Details_Data['engine'] = Car_Details_Data['engine'].apply(extract_numeric)\n",
        "Car_Details_Data['max_power'] = Car_Details_Data['max_power'].apply(extract_numeric)\n",
        "Car_Details_Data['torque'] = Car_Details_Data['torque'].apply(lambda x: re.findall(r\"[-+]?\\d*\\.\\d+|\\d+\", x)[0] if isinstance(x, str) and re.findall(r\"[-+]?\\d*\\.\\d+|\\d+\", x) else None)\n",
        "\n",
        "Car_Details_Data[['mileage', 'engine', 'max_power', 'torque']] = Car_Details_Data[['mileage', 'engine', 'max_power', 'torque']].astype(float, errors='ignore')\n",
        "\n",
        "print(Car_Details_Data)\n"
      ],
      "metadata": {
        "colab": {
          "base_uri": "https://localhost:8080/"
        },
        "id": "n5xCT3cq-3UV",
        "outputId": "dee8ece1-229d-44ab-ba2a-15e7bdc00cd3"
      },
      "execution_count": 13,
      "outputs": [
        {
          "output_type": "stream",
          "name": "stdout",
          "text": [
            "                              name  year  selling_price  km_driven    fuel  \\\n",
            "0           Maruti Swift Dzire VDI  2014         450000     145500  Diesel   \n",
            "1     Skoda Rapid 1.5 TDI Ambition  2014         370000     120000  Diesel   \n",
            "2         Honda City 2017-2020 EXi  2006         158000     140000  Petrol   \n",
            "3        Hyundai i20 Sportz Diesel  2010         225000     127000  Diesel   \n",
            "4           Maruti Swift VXI BSIII  2007         130000     120000  Petrol   \n",
            "...                            ...   ...            ...        ...     ...   \n",
            "8123             Hyundai i20 Magna  2013         320000     110000  Petrol   \n",
            "8124         Hyundai Verna CRDi SX  2007         135000     119000  Diesel   \n",
            "8125        Maruti Swift Dzire ZDi  2009         382000     120000  Diesel   \n",
            "8126               Tata Indigo CR4  2013         290000      25000  Diesel   \n",
            "8127               Tata Indigo CR4  2013         290000      25000  Diesel   \n",
            "\n",
            "     seller_type transmission                 owner  mileage  engine  \\\n",
            "0     Individual       Manual           First Owner    23.40  1248.0   \n",
            "1     Individual       Manual          Second Owner    21.14  1498.0   \n",
            "2     Individual       Manual           Third Owner    17.70  1497.0   \n",
            "3     Individual       Manual           First Owner    23.00  1396.0   \n",
            "4     Individual       Manual           First Owner    16.10  1298.0   \n",
            "...          ...          ...                   ...      ...     ...   \n",
            "8123  Individual       Manual           First Owner    18.50  1197.0   \n",
            "8124  Individual       Manual  Fourth & Above Owner    16.80  1493.0   \n",
            "8125  Individual       Manual           First Owner    19.30  1248.0   \n",
            "8126  Individual       Manual           First Owner    23.57  1396.0   \n",
            "8127  Individual       Manual           First Owner    23.57  1396.0   \n",
            "\n",
            "      max_power  torque  seats  \n",
            "0         74.00   190.0    5.0  \n",
            "1        103.52   250.0    5.0  \n",
            "2         78.00    12.7    5.0  \n",
            "3         90.00    22.4    5.0  \n",
            "4         88.20    11.5    5.0  \n",
            "...         ...     ...    ...  \n",
            "8123      82.85   113.7    5.0  \n",
            "8124     110.00    24.0    5.0  \n",
            "8125      73.90   190.0    5.0  \n",
            "8126      70.00   140.0    5.0  \n",
            "8127      70.00   140.0    5.0  \n",
            "\n",
            "[8128 rows x 13 columns]\n"
          ]
        }
      ]
    },
    {
      "cell_type": "code",
      "source": [
        "from sklearn.impute import KNNImputer\n",
        "\n",
        "missval_impute_KNN = KNNImputer(n_neighbors=5)\n",
        "Car_Details_Data[['mileage', 'engine', 'max_power', 'torque', 'seats']] = missval_impute_KNN.fit_transform(Car_Details_Data[['mileage', 'engine', 'max_power', 'torque', 'seats']])\n"
      ],
      "metadata": {
        "id": "V4f9t_Ps-R6i"
      },
      "execution_count": 14,
      "outputs": []
    },
    {
      "cell_type": "code",
      "source": [
        "Car_Details_Data.isna().sum()"
      ],
      "metadata": {
        "colab": {
          "base_uri": "https://localhost:8080/",
          "height": 491
        },
        "id": "m6Yd0J8I_6Y_",
        "outputId": "2991768a-e7f3-489b-8a51-b8efa784482b"
      },
      "execution_count": 15,
      "outputs": [
        {
          "output_type": "execute_result",
          "data": {
            "text/plain": [
              "name             0\n",
              "year             0\n",
              "selling_price    0\n",
              "km_driven        0\n",
              "fuel             0\n",
              "seller_type      0\n",
              "transmission     0\n",
              "owner            0\n",
              "mileage          0\n",
              "engine           0\n",
              "max_power        0\n",
              "torque           0\n",
              "seats            0\n",
              "dtype: int64"
            ],
            "text/html": [
              "<div>\n",
              "<style scoped>\n",
              "    .dataframe tbody tr th:only-of-type {\n",
              "        vertical-align: middle;\n",
              "    }\n",
              "\n",
              "    .dataframe tbody tr th {\n",
              "        vertical-align: top;\n",
              "    }\n",
              "\n",
              "    .dataframe thead th {\n",
              "        text-align: right;\n",
              "    }\n",
              "</style>\n",
              "<table border=\"1\" class=\"dataframe\">\n",
              "  <thead>\n",
              "    <tr style=\"text-align: right;\">\n",
              "      <th></th>\n",
              "      <th>0</th>\n",
              "    </tr>\n",
              "  </thead>\n",
              "  <tbody>\n",
              "    <tr>\n",
              "      <th>name</th>\n",
              "      <td>0</td>\n",
              "    </tr>\n",
              "    <tr>\n",
              "      <th>year</th>\n",
              "      <td>0</td>\n",
              "    </tr>\n",
              "    <tr>\n",
              "      <th>selling_price</th>\n",
              "      <td>0</td>\n",
              "    </tr>\n",
              "    <tr>\n",
              "      <th>km_driven</th>\n",
              "      <td>0</td>\n",
              "    </tr>\n",
              "    <tr>\n",
              "      <th>fuel</th>\n",
              "      <td>0</td>\n",
              "    </tr>\n",
              "    <tr>\n",
              "      <th>seller_type</th>\n",
              "      <td>0</td>\n",
              "    </tr>\n",
              "    <tr>\n",
              "      <th>transmission</th>\n",
              "      <td>0</td>\n",
              "    </tr>\n",
              "    <tr>\n",
              "      <th>owner</th>\n",
              "      <td>0</td>\n",
              "    </tr>\n",
              "    <tr>\n",
              "      <th>mileage</th>\n",
              "      <td>0</td>\n",
              "    </tr>\n",
              "    <tr>\n",
              "      <th>engine</th>\n",
              "      <td>0</td>\n",
              "    </tr>\n",
              "    <tr>\n",
              "      <th>max_power</th>\n",
              "      <td>0</td>\n",
              "    </tr>\n",
              "    <tr>\n",
              "      <th>torque</th>\n",
              "      <td>0</td>\n",
              "    </tr>\n",
              "    <tr>\n",
              "      <th>seats</th>\n",
              "      <td>0</td>\n",
              "    </tr>\n",
              "  </tbody>\n",
              "</table>\n",
              "</div><br><label><b>dtype:</b> int64</label>"
            ]
          },
          "metadata": {},
          "execution_count": 15
        }
      ]
    },
    {
      "cell_type": "code",
      "source": [
        "# Check for duplicates\n",
        "Duplicate_Check = Car_Details_Data.duplicated()\n",
        "\n",
        "# Display the number of duplicate rows\n",
        "Cnt_Car_Duplicates = Duplicate_Check.sum()\n",
        "print(f'Number of duplicate rows: {Cnt_Car_Duplicates}')"
      ],
      "metadata": {
        "colab": {
          "base_uri": "https://localhost:8080/"
        },
        "id": "gDvUP8_CACMS",
        "outputId": "9d2dfeb6-d55e-420f-a9e0-9e3754d97431"
      },
      "execution_count": 16,
      "outputs": [
        {
          "output_type": "stream",
          "name": "stdout",
          "text": [
            "Number of duplicate rows: 1202\n"
          ]
        }
      ]
    },
    {
      "cell_type": "code",
      "source": [
        "# Remove duplicate rows\n",
        "CarData_Post_Prepro = Car_Details_Data.drop_duplicates()\n",
        "\n",
        "# Confirm the removal by checking the number of duplicates again\n",
        "Cnt_Dup_Removal = CarData_Post_Prepro.duplicated().sum()\n",
        "print(f'Number of duplicate rows after removal: {Cnt_Dup_Removal}')\n"
      ],
      "metadata": {
        "colab": {
          "base_uri": "https://localhost:8080/"
        },
        "id": "g9mIwJ9ZAmtZ",
        "outputId": "6f5c77fb-43be-4194-e5e8-883291fb6a6b"
      },
      "execution_count": 18,
      "outputs": [
        {
          "output_type": "stream",
          "name": "stdout",
          "text": [
            "Number of duplicate rows after removal: 0\n"
          ]
        }
      ]
    },
    {
      "cell_type": "code",
      "source": [
        "print(f'Shape of the Dataset after duplicates removal:{CarData_Post_Prepro.shape}')"
      ],
      "metadata": {
        "colab": {
          "base_uri": "https://localhost:8080/"
        },
        "id": "o3kYYF3jAz6f",
        "outputId": "140ad525-9bef-4512-ed97-84ff4010c41e"
      },
      "execution_count": 19,
      "outputs": [
        {
          "output_type": "stream",
          "name": "stdout",
          "text": [
            "Shape of the Dataset after duplicates removal:(6926, 13)\n"
          ]
        }
      ]
    },
    {
      "cell_type": "code",
      "source": [
        "from sklearn.preprocessing import LabelEncoder\n",
        "\n",
        "le = LabelEncoder()\n",
        "CarData_Post_Prepro['fuel'] = le.fit_transform(CarData_Post_Prepro['fuel'])\n",
        "CarData_Post_Prepro['seller_type'] = le.fit_transform(CarData_Post_Prepro['seller_type'])\n",
        "CarData_Post_Prepro['transmission'] = le.fit_transform(CarData_Post_Prepro['transmission'])\n",
        "CarData_Post_Prepro['owner'] = le.fit_transform(CarData_Post_Prepro['owner'])\n"
      ],
      "metadata": {
        "id": "lDgh86yUBOG8"
      },
      "execution_count": 23,
      "outputs": []
    },
    {
      "cell_type": "code",
      "source": [
        "CarData_Post_Prepro.info()"
      ],
      "metadata": {
        "colab": {
          "base_uri": "https://localhost:8080/"
        },
        "id": "hpgximPjBP_i",
        "outputId": "46fa0633-f266-4c6c-e972-bc60c70a2c1e"
      },
      "execution_count": 24,
      "outputs": [
        {
          "output_type": "stream",
          "name": "stdout",
          "text": [
            "<class 'pandas.core.frame.DataFrame'>\n",
            "Index: 6926 entries, 0 to 8125\n",
            "Data columns (total 13 columns):\n",
            " #   Column         Non-Null Count  Dtype  \n",
            "---  ------         --------------  -----  \n",
            " 0   name           6926 non-null   object \n",
            " 1   year           6926 non-null   int64  \n",
            " 2   selling_price  6926 non-null   int64  \n",
            " 3   km_driven      6926 non-null   int64  \n",
            " 4   fuel           6926 non-null   int64  \n",
            " 5   seller_type    6926 non-null   int64  \n",
            " 6   transmission   6926 non-null   int64  \n",
            " 7   owner          6926 non-null   int64  \n",
            " 8   mileage        6926 non-null   float64\n",
            " 9   engine         6926 non-null   float64\n",
            " 10  max_power      6926 non-null   float64\n",
            " 11  torque         6926 non-null   float64\n",
            " 12  seats          6926 non-null   float64\n",
            "dtypes: float64(5), int64(7), object(1)\n",
            "memory usage: 757.5+ KB\n"
          ]
        }
      ]
    },
    {
      "cell_type": "code",
      "source": [
        "import seaborn as sns\n",
        "sns.boxplot(x=CarData_Post_Prepro['selling_price'])\n"
      ],
      "metadata": {
        "colab": {
          "base_uri": "https://localhost:8080/",
          "height": 467
        },
        "id": "VTFMKi-wBY3Q",
        "outputId": "7960ea67-02f8-4776-8dec-91bed9acce95"
      },
      "execution_count": 25,
      "outputs": [
        {
          "output_type": "execute_result",
          "data": {
            "text/plain": [
              "<Axes: xlabel='selling_price'>"
            ]
          },
          "metadata": {},
          "execution_count": 25
        },
        {
          "output_type": "display_data",
          "data": {
            "text/plain": [
              "<Figure size 640x480 with 1 Axes>"
            ],
            "image/png": "[encoded data removed]"
          },
          "metadata": {}
        }
      ]
    },
    {
      "cell_type": "code",
      "source": [
        "# Select only numerical columns for calculating the IQR\n",
        "numerical_cols = CarData_Post_Prepro.select_dtypes(include=['float64', 'int64'])\n",
        "\n",
        "# Calculate Q1 (25th percentile) and Q3 (75th percentile) for numerical columns\n",
        "Q1 = numerical_cols.quantile(0.25)\n",
        "Q3 = numerical_cols.quantile(0.75)\n",
        "\n",
        "# Calculate the Interquartile Range (IQR)\n",
        "IQR = Q3 - Q1\n",
        "\n",
        "# Filter out rows with outliers (those below Q1 - 1.5*IQR or above Q3 + 1.5*IQR)\n",
        "CarData_Post_Prepro = CarData_Post_Prepro[~((numerical_cols < (Q1 - 1.5 * IQR)) | (numerical_cols > (Q3 + 1.5 * IQR))).any(axis=1)]\n",
        "\n",
        "print(f'Number of rows after outlier removal: {CarData_Post_Prepro.shape[0]}')\n"
      ],
      "metadata": {
        "colab": {
          "base_uri": "https://localhost:8080/"
        },
        "id": "r4MPzZ4gBfD2",
        "outputId": "f090fe46-c467-46b5-b937-12990c1bd4a3"
      },
      "execution_count": 27,
      "outputs": [
        {
          "output_type": "stream",
          "name": "stdout",
          "text": [
            "Number of rows after outlier removal: 4185\n"
          ]
        }
      ]
    }
  ]
}